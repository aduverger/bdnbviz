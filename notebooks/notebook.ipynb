{
 "cells": [
  {
   "cell_type": "code",
   "execution_count": 1,
   "metadata": {},
   "outputs": [],
   "source": [
    "import geopandas as gpd\n",
    "import leafmap\n",
    "import numpy as np\n",
    "from pyproj import Proj, transform\n",
    "from matplotlib import pyplot as plt\n",
    "%config InlineBackend.figure_format = 'svg'\n",
    "from geopy.geocoders import Nominatim"
   ]
  },
  {
   "cell_type": "code",
   "execution_count": 32,
   "metadata": {},
   "outputs": [],
   "source": [
    "address = \"8 rue de la Cerdagne, Toulouse\"\n",
    "\n",
    "geolocator = Nominatim(user_agent=\"bnbviz\")\n",
    "location = geolocator.geocode(address)\n",
    "x, y = location.latitude, location.longitude\n",
    "radius = 5 #km\n",
    "xmin = x - radius / (2 * 110.574)\n",
    "xmax = x + radius / (2 * 110.574)\n",
    "ymin = y - radius / (2 * 111.320 * np.cos(np.pi * x / 180))\n",
    "ymax = y + radius / (2 * 111.320 * np.cos(np.pi * x / 180))\n",
    "inProj = Proj('epsg:4326')\n",
    "outProj = Proj('epsg:2154')\n",
    "xmin, ymin = transform(inProj,outProj, xmin, ymin)\n",
    "xmax, ymax = transform(inProj,outProj, xmax, ymax)"
   ]
  },
  {
   "cell_type": "code",
   "execution_count": 33,
   "metadata": {},
   "outputs": [
    {
     "name": "stdout",
     "output_type": "stream",
     "text": [
      "(11571, 168)\n"
     ]
    }
   ],
   "source": [
    "gdf = gpd.read_file(\"../data/bnb_export.gpkg\", bbox=(xmin, ymin, xmax, ymax))\n",
    "feature = 'adedpe202006_mean_class_estim_ges'\n",
    "#gdf = gdf[~gdf[feature].isna()]\n",
    "print(gdf.shape)\n",
    "gdf[feature].fillna(value='N', inplace=True)\n",
    "gdf = gdf[['geometry', 'cerffo2020_annee_construction', 'adedpe202006_mean_class_estim_ges', 'adedpe202006_mean_class_conso_ener', 'adedpe202006_mean_conso_ener', 'adedpe202006_mean_estim_ges']]"
   ]
  },
  {
   "cell_type": "code",
   "execution_count": null,
   "metadata": {},
   "outputs": [],
   "source": [
    "color = ['#309C6C','#5FB14E', '#80BD73', '#F2E600', '#EAB400', '#E3812A', '#CE1E15', '#C3C3C3']\n",
    "tiles = ['OpenStreetMap', 'Stamen Terrain', 'Stamen Toner', 'Stamen Watercolor', 'CartoDB positron', 'CartoDB dark_matter']\n",
    "gdf.explore(feature, cmap=color, tiles=tiles[4], zoom_start=18, location=(x, y), legend=True)"
   ]
  }
 ],
 "metadata": {
  "interpreter": {
   "hash": "6a4c6607eda22fbc7002731e2d1edb6ece63211ce7ccc5f86ac78764b82b3e7e"
  },
  "kernelspec": {
   "display_name": "Python 3.8.12 64-bit ('lewagon')",
   "language": "python",
   "name": "python3"
  },
  "language_info": {
   "codemirror_mode": {
    "name": "ipython",
    "version": 3
   },
   "file_extension": ".py",
   "mimetype": "text/x-python",
   "name": "python",
   "nbconvert_exporter": "python",
   "pygments_lexer": "ipython3",
   "version": "3.8.12"
  },
  "orig_nbformat": 4
 },
 "nbformat": 4,
 "nbformat_minor": 2
}
